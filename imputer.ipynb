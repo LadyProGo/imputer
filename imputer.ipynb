{
 "cells": [
  {
   "cell_type": "code",
   "execution_count": 152,
   "metadata": {},
   "outputs": [],
   "source": [
    "# il y a 2 classes Imputer() dans ce fichier: la première class permet de remplacer des valeurs null par la moyenne et la deuxième par la médiane\n",
    "\n",
    "# créer une class (Imputer) pour remplacer les valeurs manquantes dans une liste par la moyenne de la liste\n",
    "class Imputer():\n",
    "\n",
    "    # on appelle la méthode init lors de la création d'une instance de la classe \"Imputer\"\n",
    "    # on prend une liste de nombres comme argument et cette liste est stockée dans un attribut appelé \"nb_list\"\n",
    "    def __init__(self, list):\n",
    "        self.nb_list = list\n",
    "\n",
    "    # la méthode AVG calcule la moyenne des nombres de la liste \"nb_list\"\n",
    "    def avg(self):\n",
    "        sum = 0 # pour stocker la somme des nombres de la liste\n",
    "        pos_none = [] #pour stocker les indices des éléments manquants\n",
    "\n",
    "        for i in range(len(self.nb_list)):\n",
    "            if self.nb_list[i] is None:\n",
    "                pos_none.append(i)\n",
    "            else:\n",
    "                sum += self.nb_list[i]\n",
    "         \n",
    "       # on calcule la moyenne et on remplace chaque valeur manquante dans la liste \"nb_list\" par cette moyenne\n",
    "        for i in pos_none:\n",
    "            self.nb_list[i] = sum/(len(self.nb_list)-len(pos_none))\n",
    "\n",
    "        return self.nb_list"
   ]
  },
  {
   "cell_type": "code",
   "execution_count": 153,
   "metadata": {},
   "outputs": [
    {
     "name": "stdout",
     "output_type": "stream",
     "text": [
      "My initial list is [None, 2, 4, 6, None]\n",
      "My new list is [4.0, 2, 4, 6, 4.0]\n"
     ]
    }
   ],
   "source": [
    "list = [None,2,4,6, None]\n",
    "print(\"My initial list is {}\".format(list))\n",
    "\n",
    "instance = Imputer(list)\n",
    "print(\"My new list is {}\".format(instance.avg()))"
   ]
  },
  {
   "cell_type": "code",
   "execution_count": 161,
   "metadata": {},
   "outputs": [],
   "source": [
    "# créer une class (Imputer) pour remplacer les valeurs manquantes dans une liste par la médiane de la liste\n",
    "class Imputer():\n",
    "\n",
    "    # on appelle la méthode init lors de la création d'une instance de la classe \"Imputer\"\n",
    "    # on prend une liste de nombres comme argument et cette liste est stockée dans un attribut appelé \"nb_list\"\n",
    "    def __init__(self, list):\n",
    "        self.nb_list = list\n",
    "\n",
    "    # la méthode MEDIAN calcule la médiane des nombres de la liste \"nb_list\"\n",
    "    def median(self):\n",
    "        sorted_list = sorted([x for x in self.nb_list if x is not None]) # on trie les valeurs non manquantes\n",
    "        middle = len(sorted_list) // 2 # on calcule l'indice du milieu de la liste\n",
    "\n",
    "        if len(sorted_list) % 2 == 0: # si la liste a un nombre pair d'éléments, on fait la moyenne des deux éléments du milieu\n",
    "            median_value = (sorted_list[middle - 1] + sorted_list[middle]) / 2\n",
    "        else:\n",
    "            median_value = sorted_list[middle] # sinon, on prend l'élément du milieu\n",
    "\n",
    "        # on remplace chaque valeur manquante dans la liste \"nb_list\" par cette médiane\n",
    "        for i in range(len(self.nb_list)):\n",
    "            if self.nb_list[i] is None:\n",
    "                self.nb_list[i] = median_value\n",
    "\n",
    "        return self.nb_list"
   ]
  },
  {
   "cell_type": "code",
   "execution_count": 164,
   "metadata": {},
   "outputs": [
    {
     "name": "stdout",
     "output_type": "stream",
     "text": [
      "[None, 2, 4, 6, None]\n"
     ]
    }
   ],
   "source": [
    "list = [None,2,4,6, None]\n",
    "print(list)"
   ]
  },
  {
   "cell_type": "code",
   "execution_count": 165,
   "metadata": {},
   "outputs": [
    {
     "data": {
      "text/plain": [
       "[4, 2, 4, 6, 4]"
      ]
     },
     "execution_count": 165,
     "metadata": {},
     "output_type": "execute_result"
    }
   ],
   "source": [
    "Imputer1 = Imputer(list)\n",
    "Imputer1.median()"
   ]
  },
  {
   "cell_type": "code",
   "execution_count": 166,
   "metadata": {},
   "outputs": [
    {
     "name": "stdout",
     "output_type": "stream",
     "text": [
      "[None, 12, 8, 7, 2, 4, 6, None]\n"
     ]
    }
   ],
   "source": [
    "list2 = [None,12,8,7,2,4,6, None]\n",
    "print(list2)"
   ]
  },
  {
   "cell_type": "code",
   "execution_count": 167,
   "metadata": {},
   "outputs": [
    {
     "data": {
      "text/plain": [
       "[6.5, 12, 8, 7, 2, 4, 6, 6.5]"
      ]
     },
     "execution_count": 167,
     "metadata": {},
     "output_type": "execute_result"
    }
   ],
   "source": [
    "Imputer2 = Imputer(list2)\n",
    "Imputer2.median()"
   ]
  }
 ],
 "metadata": {
  "kernelspec": {
   "display_name": "base",
   "language": "python",
   "name": "python3"
  },
  "language_info": {
   "codemirror_mode": {
    "name": "ipython",
    "version": 3
   },
   "file_extension": ".py",
   "mimetype": "text/x-python",
   "name": "python",
   "nbconvert_exporter": "python",
   "pygments_lexer": "ipython3",
   "version": "3.9.12"
  },
  "orig_nbformat": 4,
  "vscode": {
   "interpreter": {
    "hash": "34b9de834f38ee9a6ce86ceda3248b689782f468cb0d176dfe7bd8188190e0ac"
   }
  }
 },
 "nbformat": 4,
 "nbformat_minor": 2
}
